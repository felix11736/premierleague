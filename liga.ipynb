{
 "cells": [
  {
   "cell_type": "code",
   "execution_count": 1,
   "metadata": {},
   "outputs": [
    {
     "name": "stdout",
     "output_type": "stream",
     "text": [
      "[{'team': {'name': 'Arsenal', 'logo': 'https://a.espncdn.com/i/teamlogos/soccer/500/359.png', 'abbreviation': 'ARS'}, 'stats': {'wins': 22, 'losses': 4, 'ties': 5, 'gamesPlayed': 31, 'goalsFor': 75, 'goalsAgainst': 24, 'points': 71, 'rank': 1, 'goalDifference': 51}}, {'team': {'name': 'Liverpool', 'logo': 'https://a.espncdn.com/i/teamlogos/soccer/500/364.png', 'abbreviation': 'LIV'}, 'stats': {'wins': 21, 'losses': 2, 'ties': 8, 'gamesPlayed': 31, 'goalsFor': 72, 'goalsAgainst': 30, 'points': 71, 'rank': 2, 'goalDifference': 42}}, {'team': {'name': 'Manchester City', 'logo': 'https://a.espncdn.com/i/teamlogos/soccer/500/382.png', 'abbreviation': 'MNC'}, 'stats': {'wins': 21, 'losses': 3, 'ties': 7, 'gamesPlayed': 31, 'goalsFor': 71, 'goalsAgainst': 31, 'points': 70, 'rank': 3, 'goalDifference': 40}}, {'team': {'name': 'Tottenham Hotspur', 'logo': 'https://a.espncdn.com/i/teamlogos/soccer/500/367.png', 'abbreviation': 'TOT'}, 'stats': {'wins': 18, 'losses': 7, 'ties': 6, 'gamesPlayed': 31, 'goalsFor': 65, 'goalsAgainst': 45, 'points': 60, 'rank': 4, 'goalDifference': 20}}, {'team': {'name': 'Aston Villa', 'logo': 'https://a.espncdn.com/i/teamlogos/soccer/500/362.png', 'abbreviation': 'AVL'}, 'stats': {'wins': 18, 'losses': 8, 'ties': 6, 'gamesPlayed': 32, 'goalsFor': 66, 'goalsAgainst': 49, 'points': 60, 'rank': 5, 'goalDifference': 17}}, {'team': {'name': 'Manchester United', 'logo': 'https://a.espncdn.com/i/teamlogos/soccer/500/360.png', 'abbreviation': 'MAN'}, 'stats': {'wins': 15, 'losses': 12, 'ties': 4, 'gamesPlayed': 31, 'goalsFor': 45, 'goalsAgainst': 46, 'points': 49, 'rank': 6, 'goalDifference': -1}}, {'team': {'name': 'West Ham United', 'logo': 'https://a.espncdn.com/i/teamlogos/soccer/500/371.png', 'abbreviation': 'WHU'}, 'stats': {'wins': 13, 'losses': 10, 'ties': 9, 'gamesPlayed': 32, 'goalsFor': 52, 'goalsAgainst': 56, 'points': 48, 'rank': 7, 'goalDifference': -4}}, {'team': {'name': 'Newcastle United', 'logo': 'https://a.espncdn.com/i/teamlogos/soccer/500/361.png', 'abbreviation': 'NEW'}, 'stats': {'wins': 14, 'losses': 12, 'ties': 5, 'gamesPlayed': 31, 'goalsFor': 65, 'goalsAgainst': 52, 'points': 47, 'rank': 8, 'goalDifference': 13}}, {'team': {'name': 'Chelsea', 'logo': 'https://a.espncdn.com/i/teamlogos/soccer/500/363.png', 'abbreviation': 'CHE'}, 'stats': {'wins': 12, 'losses': 10, 'ties': 8, 'gamesPlayed': 30, 'goalsFor': 55, 'goalsAgainst': 52, 'points': 44, 'rank': 9, 'goalDifference': 3}}, {'team': {'name': 'Brighton & Hove Albion', 'logo': 'https://a.espncdn.com/i/teamlogos/soccer/500/331.png', 'abbreviation': 'BHA'}, 'stats': {'wins': 11, 'losses': 10, 'ties': 10, 'gamesPlayed': 31, 'goalsFor': 51, 'goalsAgainst': 49, 'points': 43, 'rank': 10, 'goalDifference': 2}}, {'team': {'name': 'Wolverhampton Wanderers', 'logo': 'https://a.espncdn.com/i/teamlogos/soccer/500/380.png', 'abbreviation': 'WOL'}, 'stats': {'wins': 12, 'losses': 13, 'ties': 6, 'gamesPlayed': 31, 'goalsFor': 44, 'goalsAgainst': 49, 'points': 42, 'rank': 11, 'goalDifference': -5}}, {'team': {'name': 'AFC Bournemouth', 'logo': 'https://a.espncdn.com/i/teamlogos/soccer/500/349.png', 'abbreviation': 'BOU'}, 'stats': {'wins': 11, 'losses': 12, 'ties': 8, 'gamesPlayed': 31, 'goalsFor': 45, 'goalsAgainst': 55, 'points': 41, 'rank': 12, 'goalDifference': -10}}, {'team': {'name': 'Fulham', 'logo': 'https://a.espncdn.com/i/teamlogos/soccer/500/370.png', 'abbreviation': 'FUL'}, 'stats': {'wins': 11, 'losses': 15, 'ties': 6, 'gamesPlayed': 32, 'goalsFor': 47, 'goalsAgainst': 51, 'points': 39, 'rank': 13, 'goalDifference': -4}}, {'team': {'name': 'Crystal Palace', 'logo': 'https://a.espncdn.com/i/teamlogos/soccer/500/384.png', 'abbreviation': 'CRY'}, 'stats': {'wins': 7, 'losses': 15, 'ties': 9, 'gamesPlayed': 31, 'goalsFor': 36, 'goalsAgainst': 54, 'points': 30, 'rank': 14, 'goalDifference': -18}}, {'team': {'name': 'Brentford', 'logo': 'https://a.espncdn.com/i/teamlogos/soccer/500/337.png', 'abbreviation': 'BRE'}, 'stats': {'wins': 7, 'losses': 17, 'ties': 8, 'gamesPlayed': 32, 'goalsFor': 45, 'goalsAgainst': 58, 'points': 29, 'rank': 15, 'goalDifference': -13}}, {'team': {'name': 'Everton', 'logo': 'https://a.espncdn.com/i/teamlogos/soccer/500/368.png', 'abbreviation': 'EVE'}, 'stats': {'wins': 9, 'losses': 14, 'ties': 8, 'gamesPlayed': 31, 'goalsFor': 32, 'goalsAgainst': 42, 'points': 27, 'rank': 16, 'goalDifference': -10}}, {'team': {'name': 'Nottingham Forest', 'logo': 'https://a.espncdn.com/i/teamlogos/soccer/500/393.png', 'abbreviation': 'NFO'}, 'stats': {'wins': 7, 'losses': 17, 'ties': 8, 'gamesPlayed': 32, 'goalsFor': 40, 'goalsAgainst': 56, 'points': 25, 'rank': 17, 'goalDifference': -16}}, {'team': {'name': 'Luton Town', 'logo': 'https://a.espncdn.com/i/teamlogos/soccer/500/301.png', 'abbreviation': 'LTN'}, 'stats': {'wins': 6, 'losses': 19, 'ties': 7, 'gamesPlayed': 32, 'goalsFor': 45, 'goalsAgainst': 65, 'points': 25, 'rank': 18, 'goalDifference': -20}}, {'team': {'name': 'Burnley', 'logo': 'https://a.espncdn.com/i/teamlogos/soccer/500/379.png', 'abbreviation': 'BUR'}, 'stats': {'wins': 4, 'losses': 21, 'ties': 7, 'gamesPlayed': 32, 'goalsFor': 32, 'goalsAgainst': 67, 'points': 19, 'rank': 19, 'goalDifference': -35}}, {'team': {'name': 'Sheffield United', 'logo': 'https://a.espncdn.com/i/teamlogos/soccer/500/398.png', 'abbreviation': 'SHU'}, 'stats': {'wins': 3, 'losses': 21, 'ties': 7, 'gamesPlayed': 31, 'goalsFor': 30, 'goalsAgainst': 82, 'points': 16, 'rank': 20, 'goalDifference': -52}}]\n"
     ]
    }
   ],
   "source": [
    "import requests\n",
    "\n",
    "url = \"https://premier-league-standings1.p.rapidapi.com/\"\n",
    "\n",
    "headers = {\n",
    "\t\"X-RapidAPI-Key\": \"5e081a9dfbmshce86c4bcf156378p12cb19jsn442f7a6e1973\",\n",
    "\t\"X-RapidAPI-Host\": \"premier-league-standings1.p.rapidapi.com\"\n",
    "}\n",
    "\n",
    "response = requests.get(url, headers=headers)\n",
    "\n",
    "print(response.json())"
   ]
  },
  {
   "cell_type": "code",
   "execution_count": 2,
   "metadata": {},
   "outputs": [
    {
     "data": {
      "text/plain": [
       "list"
      ]
     },
     "execution_count": 2,
     "metadata": {},
     "output_type": "execute_result"
    }
   ],
   "source": [
    "type(response.json())"
   ]
  },
  {
   "cell_type": "code",
   "execution_count": 3,
   "metadata": {},
   "outputs": [],
   "source": [
    "premierleague = response.json()"
   ]
  },
  {
   "cell_type": "code",
   "execution_count": 4,
   "metadata": {},
   "outputs": [
    {
     "name": "stdout",
     "output_type": "stream",
     "text": [
      "{'team': {'name': 'Arsenal', 'logo': 'https://a.espncdn.com/i/teamlogos/soccer/500/359.png', 'abbreviation': 'ARS'}, 'stats': {'wins': 22, 'losses': 4, 'ties': 5, 'gamesPlayed': 31, 'goalsFor': 75, 'goalsAgainst': 24, 'points': 71, 'rank': 1, 'goalDifference': 51}}\n",
      "{'team': {'name': 'Liverpool', 'logo': 'https://a.espncdn.com/i/teamlogos/soccer/500/364.png', 'abbreviation': 'LIV'}, 'stats': {'wins': 21, 'losses': 2, 'ties': 8, 'gamesPlayed': 31, 'goalsFor': 72, 'goalsAgainst': 30, 'points': 71, 'rank': 2, 'goalDifference': 42}}\n",
      "{'team': {'name': 'Manchester City', 'logo': 'https://a.espncdn.com/i/teamlogos/soccer/500/382.png', 'abbreviation': 'MNC'}, 'stats': {'wins': 21, 'losses': 3, 'ties': 7, 'gamesPlayed': 31, 'goalsFor': 71, 'goalsAgainst': 31, 'points': 70, 'rank': 3, 'goalDifference': 40}}\n",
      "{'team': {'name': 'Tottenham Hotspur', 'logo': 'https://a.espncdn.com/i/teamlogos/soccer/500/367.png', 'abbreviation': 'TOT'}, 'stats': {'wins': 18, 'losses': 7, 'ties': 6, 'gamesPlayed': 31, 'goalsFor': 65, 'goalsAgainst': 45, 'points': 60, 'rank': 4, 'goalDifference': 20}}\n",
      "{'team': {'name': 'Aston Villa', 'logo': 'https://a.espncdn.com/i/teamlogos/soccer/500/362.png', 'abbreviation': 'AVL'}, 'stats': {'wins': 18, 'losses': 8, 'ties': 6, 'gamesPlayed': 32, 'goalsFor': 66, 'goalsAgainst': 49, 'points': 60, 'rank': 5, 'goalDifference': 17}}\n",
      "{'team': {'name': 'Manchester United', 'logo': 'https://a.espncdn.com/i/teamlogos/soccer/500/360.png', 'abbreviation': 'MAN'}, 'stats': {'wins': 15, 'losses': 12, 'ties': 4, 'gamesPlayed': 31, 'goalsFor': 45, 'goalsAgainst': 46, 'points': 49, 'rank': 6, 'goalDifference': -1}}\n",
      "{'team': {'name': 'West Ham United', 'logo': 'https://a.espncdn.com/i/teamlogos/soccer/500/371.png', 'abbreviation': 'WHU'}, 'stats': {'wins': 13, 'losses': 10, 'ties': 9, 'gamesPlayed': 32, 'goalsFor': 52, 'goalsAgainst': 56, 'points': 48, 'rank': 7, 'goalDifference': -4}}\n",
      "{'team': {'name': 'Newcastle United', 'logo': 'https://a.espncdn.com/i/teamlogos/soccer/500/361.png', 'abbreviation': 'NEW'}, 'stats': {'wins': 14, 'losses': 12, 'ties': 5, 'gamesPlayed': 31, 'goalsFor': 65, 'goalsAgainst': 52, 'points': 47, 'rank': 8, 'goalDifference': 13}}\n",
      "{'team': {'name': 'Chelsea', 'logo': 'https://a.espncdn.com/i/teamlogos/soccer/500/363.png', 'abbreviation': 'CHE'}, 'stats': {'wins': 12, 'losses': 10, 'ties': 8, 'gamesPlayed': 30, 'goalsFor': 55, 'goalsAgainst': 52, 'points': 44, 'rank': 9, 'goalDifference': 3}}\n",
      "{'team': {'name': 'Brighton & Hove Albion', 'logo': 'https://a.espncdn.com/i/teamlogos/soccer/500/331.png', 'abbreviation': 'BHA'}, 'stats': {'wins': 11, 'losses': 10, 'ties': 10, 'gamesPlayed': 31, 'goalsFor': 51, 'goalsAgainst': 49, 'points': 43, 'rank': 10, 'goalDifference': 2}}\n",
      "{'team': {'name': 'Wolverhampton Wanderers', 'logo': 'https://a.espncdn.com/i/teamlogos/soccer/500/380.png', 'abbreviation': 'WOL'}, 'stats': {'wins': 12, 'losses': 13, 'ties': 6, 'gamesPlayed': 31, 'goalsFor': 44, 'goalsAgainst': 49, 'points': 42, 'rank': 11, 'goalDifference': -5}}\n",
      "{'team': {'name': 'AFC Bournemouth', 'logo': 'https://a.espncdn.com/i/teamlogos/soccer/500/349.png', 'abbreviation': 'BOU'}, 'stats': {'wins': 11, 'losses': 12, 'ties': 8, 'gamesPlayed': 31, 'goalsFor': 45, 'goalsAgainst': 55, 'points': 41, 'rank': 12, 'goalDifference': -10}}\n",
      "{'team': {'name': 'Fulham', 'logo': 'https://a.espncdn.com/i/teamlogos/soccer/500/370.png', 'abbreviation': 'FUL'}, 'stats': {'wins': 11, 'losses': 15, 'ties': 6, 'gamesPlayed': 32, 'goalsFor': 47, 'goalsAgainst': 51, 'points': 39, 'rank': 13, 'goalDifference': -4}}\n",
      "{'team': {'name': 'Crystal Palace', 'logo': 'https://a.espncdn.com/i/teamlogos/soccer/500/384.png', 'abbreviation': 'CRY'}, 'stats': {'wins': 7, 'losses': 15, 'ties': 9, 'gamesPlayed': 31, 'goalsFor': 36, 'goalsAgainst': 54, 'points': 30, 'rank': 14, 'goalDifference': -18}}\n",
      "{'team': {'name': 'Brentford', 'logo': 'https://a.espncdn.com/i/teamlogos/soccer/500/337.png', 'abbreviation': 'BRE'}, 'stats': {'wins': 7, 'losses': 17, 'ties': 8, 'gamesPlayed': 32, 'goalsFor': 45, 'goalsAgainst': 58, 'points': 29, 'rank': 15, 'goalDifference': -13}}\n",
      "{'team': {'name': 'Everton', 'logo': 'https://a.espncdn.com/i/teamlogos/soccer/500/368.png', 'abbreviation': 'EVE'}, 'stats': {'wins': 9, 'losses': 14, 'ties': 8, 'gamesPlayed': 31, 'goalsFor': 32, 'goalsAgainst': 42, 'points': 27, 'rank': 16, 'goalDifference': -10}}\n",
      "{'team': {'name': 'Nottingham Forest', 'logo': 'https://a.espncdn.com/i/teamlogos/soccer/500/393.png', 'abbreviation': 'NFO'}, 'stats': {'wins': 7, 'losses': 17, 'ties': 8, 'gamesPlayed': 32, 'goalsFor': 40, 'goalsAgainst': 56, 'points': 25, 'rank': 17, 'goalDifference': -16}}\n",
      "{'team': {'name': 'Luton Town', 'logo': 'https://a.espncdn.com/i/teamlogos/soccer/500/301.png', 'abbreviation': 'LTN'}, 'stats': {'wins': 6, 'losses': 19, 'ties': 7, 'gamesPlayed': 32, 'goalsFor': 45, 'goalsAgainst': 65, 'points': 25, 'rank': 18, 'goalDifference': -20}}\n",
      "{'team': {'name': 'Burnley', 'logo': 'https://a.espncdn.com/i/teamlogos/soccer/500/379.png', 'abbreviation': 'BUR'}, 'stats': {'wins': 4, 'losses': 21, 'ties': 7, 'gamesPlayed': 32, 'goalsFor': 32, 'goalsAgainst': 67, 'points': 19, 'rank': 19, 'goalDifference': -35}}\n",
      "{'team': {'name': 'Sheffield United', 'logo': 'https://a.espncdn.com/i/teamlogos/soccer/500/398.png', 'abbreviation': 'SHU'}, 'stats': {'wins': 3, 'losses': 21, 'ties': 7, 'gamesPlayed': 31, 'goalsFor': 30, 'goalsAgainst': 82, 'points': 16, 'rank': 20, 'goalDifference': -52}}\n"
     ]
    }
   ],
   "source": [
    "for i in premierleague:\n",
    "    print(i)"
   ]
  },
  {
   "cell_type": "code",
   "execution_count": 7,
   "metadata": {},
   "outputs": [
    {
     "name": "stdout",
     "output_type": "stream",
     "text": [
      "Arsenal 22\n",
      "Liverpool 21\n",
      "Manchester City 21\n",
      "Tottenham Hotspur 18\n",
      "Aston Villa 18\n",
      "Manchester United 15\n",
      "West Ham United 13\n",
      "Newcastle United 14\n",
      "Chelsea 12\n",
      "Brighton & Hove Albion 11\n",
      "Wolverhampton Wanderers 12\n",
      "AFC Bournemouth 11\n",
      "Fulham 11\n",
      "Crystal Palace 7\n",
      "Brentford 7\n",
      "Everton 9\n",
      "Nottingham Forest 7\n",
      "Luton Town 6\n",
      "Burnley 4\n",
      "Sheffield United 3\n"
     ]
    }
   ],
   "source": [
    "for i in premierleague:\n",
    "    print(i ['team']['name'], i['stats'] ['wins'])"
   ]
  },
  {
   "cell_type": "code",
   "execution_count": 8,
   "metadata": {},
   "outputs": [
    {
     "data": {
      "text/plain": [
       "20"
      ]
     },
     "execution_count": 8,
     "metadata": {},
     "output_type": "execute_result"
    }
   ],
   "source": [
    "len(premierleague)"
   ]
  }
 ],
 "metadata": {
  "kernelspec": {
   "display_name": "Python 3",
   "language": "python",
   "name": "python3"
  },
  "language_info": {
   "codemirror_mode": {
    "name": "ipython",
    "version": 3
   },
   "file_extension": ".py",
   "mimetype": "text/x-python",
   "name": "python",
   "nbconvert_exporter": "python",
   "pygments_lexer": "ipython3",
   "version": "3.12.0"
  }
 },
 "nbformat": 4,
 "nbformat_minor": 2
}
